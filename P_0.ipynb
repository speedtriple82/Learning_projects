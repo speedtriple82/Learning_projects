{
 "cells": [
  {
   "cell_type": "code",
   "execution_count": 13,
   "metadata": {},
   "outputs": [
    {
     "name": "stdout",
     "output_type": "stream",
     "text": [
      "Ваш алгоритм угадывает число в среднем за 5 попыток\n"
     ]
    },
    {
     "data": {
      "text/plain": [
       "5"
      ]
     },
     "execution_count": 13,
     "metadata": {},
     "output_type": "execute_result"
    }
   ],
   "source": [
    "import numpy as np\n",
    "def game_core_v3(number):\n",
    "    '''Сначала устанавливаем любое random число, а потом уменьшаем или увеличиваем его методом последовательных приближений прибавляя\n",
    "    или вычитая число равноудаленное от предсказываемого и максимального или минимального на этом шаге цикла.'''\n",
    "    count = 0                           # счетчик попыток\n",
    "    predict = np.random.randint(1,101)  # первая попытка угадать число путем выбора случайного числа от 1 до 100\n",
    "    min_num = 0                         # стартовое значение для переменной меньше которой загаданное число быть не может                    \n",
    "    max_num = 101                       # стартовое значение для переменной больше которой загаданное число быть не может \n",
    "\n",
    "    while number != predict:\n",
    "        count+=1\n",
    "        if number > predict: \n",
    "            min_num = predict                     # отсекаем значения меньше угадываемого на этом шаге цикла\n",
    "            predict += int((max_num-predict) / 2) # угадываем (предсказываем) число на этом шаге цикла\n",
    "        elif number < predict: \n",
    "            max_num = predict                     # отсекаем значения больше угадываемого на этом шаге цикла\n",
    "            predict -= int((predict-min_num) / 2) # угадываем (предсказываем) число на этом шаге цикла\n",
    "    return(count) # выход из цикла, если угадали\n",
    "\n",
    "def score_game(game_core):\n",
    "    '''Запускаем игру 1000 раз, чтобы узнать, как быстро игра угадывает число'''\n",
    "    count_ls = []\n",
    "    np.random.seed(1)  # фиксируем RANDOM SEED, чтобы ваш эксперимент был воспроизводим!\n",
    "    random_array = np.random.randint(1,101, size=(1000))\n",
    "    for number in random_array:\n",
    "        count_ls.append(game_core(number))\n",
    "    score = int(np.mean(count_ls))\n",
    "    print(f\"Ваш алгоритм угадывает число в среднем за {score} попыток\")\n",
    "    return(score)\n",
    "score_game(game_core_v3)"
   ]
  }
 ],
 "metadata": {
  "kernelspec": {
   "display_name": "Python 3",
   "language": "python",
   "name": "python3"
  },
  "language_info": {
   "codemirror_mode": {
    "name": "ipython",
    "version": 3
   },
   "file_extension": ".py",
   "mimetype": "text/x-python",
   "name": "python",
   "nbconvert_exporter": "python",
   "pygments_lexer": "ipython3",
   "version": "3.8.3"
  }
 },
 "nbformat": 4,
 "nbformat_minor": 4
}
